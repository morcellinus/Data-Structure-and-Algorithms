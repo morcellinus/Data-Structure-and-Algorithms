{
 "cells": [
  {
   "cell_type": "markdown",
   "id": "a7725fe8",
   "metadata": {},
   "source": [
    "## 클래스가 왜 필요할까?\n",
    "\n",
    "`더하기` 기능을 수행하는 파이썬 코드를 구현해보자"
   ]
  },
  {
   "cell_type": "code",
   "execution_count": 1,
   "id": "15ccb1f3",
   "metadata": {},
   "outputs": [
    {
     "name": "stdout",
     "output_type": "stream",
     "text": [
      "3\n",
      "7\n"
     ]
    }
   ],
   "source": [
    "result = 0\n",
    "\n",
    "def add(num):\n",
    "    global result\n",
    "    result += num\n",
    "    return result\n",
    "\n",
    "print(add(3))\n",
    "print(add(4))"
   ]
  },
  {
   "cell_type": "markdown",
   "id": "2d4e5ea7",
   "metadata": {},
   "source": [
    "이전에 계산한 결과값을 유지하기 위해 result라는 전역 변수를 사용했다.\n",
    "\n",
    "그런데 만약 2대의 계산기가 필요한 상황이라면? \n",
    "\n",
    "각 계산기는 각각의 결과값을 유지해야 하기 때문에 위처럼 하나의 add 함수로는 이를 수행할 수 없다.\n",
    "\n",
    "따라서 아래처럼 함수를 각각 선언해야 한다."
   ]
  },
  {
   "cell_type": "code",
   "execution_count": 2,
   "id": "727fe326",
   "metadata": {},
   "outputs": [
    {
     "name": "stdout",
     "output_type": "stream",
     "text": [
      "3\n",
      "7\n",
      "3\n",
      "10\n"
     ]
    }
   ],
   "source": [
    "result1 = 0\n",
    "result2 = 0\n",
    "\n",
    "def add1(num):\n",
    "    global result1\n",
    "    result1 += num\n",
    "    return result1\n",
    "\n",
    "def add2(num):\n",
    "    global result2\n",
    "    result2 += num\n",
    "    return result2\n",
    "\n",
    "print(add1(3))\n",
    "print(add1(4))\n",
    "\n",
    "print(add2(3))\n",
    "print(add2(7))"
   ]
  },
  {
   "cell_type": "markdown",
   "id": "a54fa3ce",
   "metadata": {},
   "source": [
    "동일한 작업을 하는 add1과 add2 함수를 만들었고,\n",
    "\n",
    "각 함수는 계산한 결과를 유지하면서 저장하는 전역변수 result1, result2를 필요로 한다.\n",
    "\n",
    "만약 계산기가 3대, 5대, 10대씩 점점 많아진다면? 그럴 때마다 전역 변수를 추가할 수는 없다.\n",
    "\n",
    "따라서 이러한 경우에 클래스를 사용하면 간단하게 해결할 수 있다.\n",
    "\n",
    "---"
   ]
  },
  {
   "cell_type": "markdown",
   "id": "73e7f81f",
   "metadata": {},
   "source": [
    "## 클래스와 객체\n",
    "\n",
    "과자를 만드는 틀과 그것을 사용해 만든 과자가 있다.\n",
    "\n",
    "- 틀: 클래스\n",
    "- 과자: 객체\n",
    "\n",
    "클래스로 만들어진 객체에는 중요한 특징이 있다. 바로 객체마다 고유한 성격을 가진다는 점이다.\n",
    "\n",
    "동일한 클래스로 만든 객체들은 서로에게 전혀 영향을 주지 않는다.\n",
    "\n",
    "```python\n",
    "class Cookie:\n",
    "    pass\n",
    "```\n",
    "\n",
    "객체는 클래스로 만들며, 1개의 클래스는 무수히 많은 객체를 만들어 낼 수 있다.\n",
    "\n",
    "위의 Cookie 클래스의 객체를 만드는 방법은 다음과 같다.\n",
    "\n",
    "```python\n",
    "a = Cookie()\n",
    "b = Cookie()\n",
    "```\n",
    "\n",
    "Cookie( )의 결과값을 돌려받은 a와 b가 바로 객체이다.\n",
    "\n",
    "*Cf) 클래스로 만든 객체를 인스턴스라고 한다. a = Cookie( )로 만든 a는 객체이다. 그리고 a는 Cookie의 인스턴스이다. 즉 인스턴스라는 말은 특정 객체(a)가 어떤 클래스(Cookie)의 객체인지를 관계 위주로 설명할 때 사용한다.*"
   ]
  },
  {
   "cell_type": "markdown",
   "id": "25dcde67",
   "metadata": {},
   "source": [
    "## 사칙연산 클래스 만들기\n",
    "\n",
    "제일 먼저 할 일은\n",
    "\n",
    "```python\n",
    "a = FourCall()\n",
    "```\n",
    "\n",
    "처럼 객체를 만들 수 있게 하는 것이다."
   ]
  },
  {
   "cell_type": "code",
   "execution_count": 3,
   "id": "8c22716e",
   "metadata": {},
   "outputs": [],
   "source": [
    "class FourCall():\n",
    "    pass"
   ]
  },
  {
   "cell_type": "code",
   "execution_count": 5,
   "id": "9eddc05a",
   "metadata": {},
   "outputs": [
    {
     "data": {
      "text/plain": [
       "__main__.FourCall"
      ]
     },
     "execution_count": 5,
     "metadata": {},
     "output_type": "execute_result"
    }
   ],
   "source": [
    "a = FourCall()\n",
    "type(a) # a 객체를 만들고 타입을 살펴보니 a가 FourCall 클래스의 객체임을 알 수 있다."
   ]
  },
  {
   "cell_type": "code",
   "execution_count": 8,
   "id": "b105bd8d",
   "metadata": {},
   "outputs": [],
   "source": [
    "class FourCal():\n",
    "    def setdata(self, first, second): # 메서드의 매개변수\n",
    "        self.first = first # 메서드의 수행문\n",
    "        self.second = second # 메서드의 수행문"
   ]
  },
  {
   "cell_type": "markdown",
   "id": "381441e8",
   "metadata": {},
   "source": [
    "클래스 안에 구현된 함수는 다른 말로 Method라고 한다. \n",
    "\n",
    "setdata 메서드는 매개변수로서 self, first, second 3개 입력값을 받는다.\n",
    "\n",
    "그러나 일반 함수와는 달리 메서드의 첫 번째 매개변수 self는 특별한 의미를 가진다.\n",
    "\n",
    "다음과 같이 a객체를 만들고 a 객체를 통해 setdata 메서드를 호출해보자. "
   ]
  },
  {
   "cell_type": "code",
   "execution_count": 9,
   "id": "102c29ff",
   "metadata": {},
   "outputs": [],
   "source": [
    "a = FourCal()\n",
    "a.setdata(4, 2)"
   ]
  },
  {
   "cell_type": "markdown",
   "id": "e202386c",
   "metadata": {},
   "source": [
    "여기서 이상한 점은 setdata 메서드는 self, first, second 세 개의 매개변수를 필요로 하는데 실제로는 `a.setdata(4, 2)`처럼 2개 값만 전달했다는 점이다.\n",
    "\n",
    "그 이유는 `a.setdata(4, 2)`처럼 호출하면 setdata 메서드의 첫 번째 매개변수 self에는 setdata 메서드를 호출한 객체 a가 자동으로 전달되기 때문이다."
   ]
  },
  {
   "cell_type": "markdown",
   "id": "366f4c4f",
   "metadata": {},
   "source": [
    "`a.setdata(4, 2)`처럼 호출하면 setdata 메서드의 매개변수 first, second에는 각각 값 4와 2가 전달되어 setdata 메서드의 수행문은 다음과 같이 해석된다.\n",
    "\n",
    "```python\n",
    "self.first = 4\n",
    "self.second = 2\n",
    "```\n",
    "\n",
    "self는 전달된 객체 a이므로 다시 다음과 같이 해석된다.\n",
    "\n",
    "```python\n",
    "a.first = 4\n",
    "a.second = 2\n",
    "```\n",
    "\n",
    "`a.first = 4`문장이 수행되면 a 객체에 객체변수 first가 생성되고 값 4가 저장된다. 마찬가지로 `a.second = 2`문장이 수행되면 a 객체에 객체변수 second가 생성되고 값 2가 저장된다.\n",
    "\n",
    "다음과 같이 확인해보자"
   ]
  },
  {
   "cell_type": "code",
   "execution_count": 11,
   "id": "de2cf204",
   "metadata": {},
   "outputs": [
    {
     "name": "stdout",
     "output_type": "stream",
     "text": [
      "4\n",
      "2\n"
     ]
    }
   ],
   "source": [
    "a = FourCal()\n",
    "a.setdata(4, 2)\n",
    "print(a.first)\n",
    "print(a.second)"
   ]
  },
  {
   "cell_type": "markdown",
   "id": "6e5795c7",
   "metadata": {},
   "source": [
    "이제 사칙연산 메서드를 클래스에 추가할 수 있다."
   ]
  },
  {
   "cell_type": "code",
   "execution_count": 12,
   "id": "5bafcb20",
   "metadata": {},
   "outputs": [],
   "source": [
    "class Fourcal:\n",
    "    def setdata(self, first, second):\n",
    "        self.first = first\n",
    "        self.second = second\n",
    "        \n",
    "    def add(self):\n",
    "        result = self.first + self.second\n",
    "        return result\n",
    "    \n",
    "    def mul(self):\n",
    "        result = self.first * self.second\n",
    "        return result\n",
    "    \n",
    "    def sub(self):\n",
    "        result = self.first - self.second\n",
    "        return result\n",
    "    \n",
    "    def div(self):\n",
    "        result = self.first / self.second\n",
    "        return result"
   ]
  },
  {
   "cell_type": "code",
   "execution_count": 14,
   "id": "c325f5f7",
   "metadata": {},
   "outputs": [
    {
     "name": "stdout",
     "output_type": "stream",
     "text": [
      "6\n",
      "8\n",
      "2\n",
      "2.0\n"
     ]
    }
   ],
   "source": [
    "a = Fourcal()\n",
    "\n",
    "a.setdata(4, 2)\n",
    "\n",
    "print(a.add())\n",
    "print(a.mul())\n",
    "print(a.sub())\n",
    "print(a.div())"
   ]
  },
  {
   "cell_type": "markdown",
   "id": "e1f84311",
   "metadata": {},
   "source": [
    "## 생선자"
   ]
  },
  {
   "cell_type": "markdown",
   "id": "1b4b035e",
   "metadata": {},
   "source": [
    "우리가 만든 Fourcal 클래스를 다음과 같이 사용해보자."
   ]
  },
  {
   "cell_type": "code",
   "execution_count": 16,
   "id": "8a053b9e",
   "metadata": {},
   "outputs": [
    {
     "ename": "AttributeError",
     "evalue": "'Fourcal' object has no attribute 'first'",
     "output_type": "error",
     "traceback": [
      "\u001b[0;31m---------------------------------------------------------------------------\u001b[0m",
      "\u001b[0;31mAttributeError\u001b[0m                            Traceback (most recent call last)",
      "\u001b[0;32m/var/folders/wp/3yjtn2pj4_50t_f7jry9bhq00000gn/T/ipykernel_25285/4147113032.py\u001b[0m in \u001b[0;36m<module>\u001b[0;34m\u001b[0m\n\u001b[1;32m      1\u001b[0m \u001b[0ma\u001b[0m \u001b[0;34m=\u001b[0m \u001b[0mFourcal\u001b[0m\u001b[0;34m(\u001b[0m\u001b[0;34m)\u001b[0m\u001b[0;34m\u001b[0m\u001b[0;34m\u001b[0m\u001b[0m\n\u001b[0;32m----> 2\u001b[0;31m \u001b[0ma\u001b[0m\u001b[0;34m.\u001b[0m\u001b[0madd\u001b[0m\u001b[0;34m(\u001b[0m\u001b[0;34m)\u001b[0m\u001b[0;34m\u001b[0m\u001b[0;34m\u001b[0m\u001b[0m\n\u001b[0m",
      "\u001b[0;32m/var/folders/wp/3yjtn2pj4_50t_f7jry9bhq00000gn/T/ipykernel_25285/2281318291.py\u001b[0m in \u001b[0;36madd\u001b[0;34m(self)\u001b[0m\n\u001b[1;32m      5\u001b[0m \u001b[0;34m\u001b[0m\u001b[0m\n\u001b[1;32m      6\u001b[0m     \u001b[0;32mdef\u001b[0m \u001b[0madd\u001b[0m\u001b[0;34m(\u001b[0m\u001b[0mself\u001b[0m\u001b[0;34m)\u001b[0m\u001b[0;34m:\u001b[0m\u001b[0;34m\u001b[0m\u001b[0;34m\u001b[0m\u001b[0m\n\u001b[0;32m----> 7\u001b[0;31m         \u001b[0mresult\u001b[0m \u001b[0;34m=\u001b[0m \u001b[0mself\u001b[0m\u001b[0;34m.\u001b[0m\u001b[0mfirst\u001b[0m \u001b[0;34m+\u001b[0m \u001b[0mself\u001b[0m\u001b[0;34m.\u001b[0m\u001b[0msecond\u001b[0m\u001b[0;34m\u001b[0m\u001b[0;34m\u001b[0m\u001b[0m\n\u001b[0m\u001b[1;32m      8\u001b[0m         \u001b[0;32mreturn\u001b[0m \u001b[0mresult\u001b[0m\u001b[0;34m\u001b[0m\u001b[0;34m\u001b[0m\u001b[0m\n\u001b[1;32m      9\u001b[0m \u001b[0;34m\u001b[0m\u001b[0m\n",
      "\u001b[0;31mAttributeError\u001b[0m: 'Fourcal' object has no attribute 'first'"
     ]
    }
   ],
   "source": [
    "a = Fourcal()\n",
    "a.add()"
   ]
  },
  {
   "cell_type": "markdown",
   "id": "47bebcbf",
   "metadata": {},
   "source": [
    "Fourcal 클래스의 인스턴스 a에 setdata 메서드를 수행하지 않고 add 메서드를 수행하면 \n",
    "\n",
    "\"AttributeError: 'Fourcal' object has no attribute 'first'\" 오류가 발생한다.\n",
    "\n",
    "setdata 메서드를 수행해야 객체 a의 객체변수 first와 second가 생성되기 때문이다.\n",
    "\n",
    "이렇게 객체에 초깃값을 설정해야 할 필요가 있을 때는 setdata와 같은 메서드를 호출해서 초깃값을 설정하기보다, `생성자`를 구현하는 것이 안전한 방법이다.\n",
    "\n",
    "생성자란 객체가 생성될 때 자동으로 호출되는 메서드를 의미한다.\n",
    "\n",
    "파이썬 메서드 이름으로 `__init__`을 사용하면 이 메서드는 생성자가 된다."
   ]
  },
  {
   "cell_type": "code",
   "execution_count": 17,
   "id": "81f2329b",
   "metadata": {},
   "outputs": [],
   "source": [
    "class FourCal:\n",
    "    def __init__(self, first, second):\n",
    "        self.first = first\n",
    "        self.second = second\n",
    "\n",
    "    def add(self):\n",
    "        result = self.first + self.second\n",
    "        return result\n",
    "    \n",
    "    def mul(self):\n",
    "        result = self.first * self.second\n",
    "        return result\n",
    "    \n",
    "    def sub(self):\n",
    "        result = self.first - self.second\n",
    "        return result\n",
    "    \n",
    "    def div(self):\n",
    "        result = self.first / self.second\n",
    "        return result"
   ]
  },
  {
   "cell_type": "code",
   "execution_count": 18,
   "id": "b37fa7f5",
   "metadata": {},
   "outputs": [
    {
     "ename": "TypeError",
     "evalue": "__init__() missing 2 required positional arguments: 'first' and 'second'",
     "output_type": "error",
     "traceback": [
      "\u001b[0;31m---------------------------------------------------------------------------\u001b[0m",
      "\u001b[0;31mTypeError\u001b[0m                                 Traceback (most recent call last)",
      "\u001b[0;32m/var/folders/wp/3yjtn2pj4_50t_f7jry9bhq00000gn/T/ipykernel_25285/488658773.py\u001b[0m in \u001b[0;36m<module>\u001b[0;34m\u001b[0m\n\u001b[0;32m----> 1\u001b[0;31m \u001b[0ma\u001b[0m \u001b[0;34m=\u001b[0m \u001b[0mFourCal\u001b[0m\u001b[0;34m(\u001b[0m\u001b[0;34m)\u001b[0m\u001b[0;34m\u001b[0m\u001b[0;34m\u001b[0m\u001b[0m\n\u001b[0m",
      "\u001b[0;31mTypeError\u001b[0m: __init__() missing 2 required positional arguments: 'first' and 'second'"
     ]
    }
   ],
   "source": [
    "a = FourCal()"
   ]
  },
  {
   "cell_type": "markdown",
   "id": "f1c0d36b",
   "metadata": {},
   "source": [
    "`a = FourCal()`을 수행할 때 생성자 `__init__`이 호출되어 위와 같은 오류가 발생했다.\n",
    "\n",
    "오류가 발생한 이유는 생성자의 매개변수 first와 second에 해당하는 값이 전달되지 않았기 때문이다.\n",
    "\n",
    "이 오류를 해결하려면 다음처럼 first와 second에 해당하는 값을 전달해 객체를 생성해야 한다.\n",
    "\n",
    "```python\n",
    "a = FourCal(4, 2)\n",
    "```\n",
    "\n",
    "다음과 같이 객체변수의 값을 확인해보자."
   ]
  },
  {
   "cell_type": "code",
   "execution_count": 19,
   "id": "4831e261",
   "metadata": {},
   "outputs": [
    {
     "name": "stdout",
     "output_type": "stream",
     "text": [
      "4\n",
      "2\n"
     ]
    }
   ],
   "source": [
    "a = FourCal(4, 2)\n",
    "print(a.first)\n",
    "print(a.second)"
   ]
  },
  {
   "cell_type": "code",
   "execution_count": 21,
   "id": "8975da0f",
   "metadata": {},
   "outputs": [
    {
     "name": "stdout",
     "output_type": "stream",
     "text": [
      "6\n",
      "2.0\n"
     ]
    }
   ],
   "source": [
    "print(a.add())\n",
    "print(a.div())"
   ]
  },
  {
   "cell_type": "markdown",
   "id": "6be33382",
   "metadata": {},
   "source": [
    "## 클래스의 상속\n",
    "\n",
    "클래스의 상속이란 어떤 클래스를 만들 때 다른 클래스의 기능을 물려받을 수 있게 하는 것이다.\n",
    "\n",
    "FourCal 클래스에 $a^b$를 구하는 기능을 추가해보자."
   ]
  },
  {
   "cell_type": "code",
   "execution_count": 22,
   "id": "e7fe4c02",
   "metadata": {},
   "outputs": [],
   "source": [
    "class MoreFourCal(FourCal):\n",
    "    def pow(self):\n",
    "        result = self.first ** self.second\n",
    "        return result\n",
    "    "
   ]
  },
  {
   "cell_type": "code",
   "execution_count": 23,
   "id": "f28cebff",
   "metadata": {},
   "outputs": [
    {
     "name": "stdout",
     "output_type": "stream",
     "text": [
      "6\n",
      "16\n"
     ]
    }
   ],
   "source": [
    "a = MoreFourCal(4, 2)\n",
    "\n",
    "print(a.add())\n",
    "print(a.pow())"
   ]
  },
  {
   "cell_type": "markdown",
   "id": "d661d23f",
   "metadata": {},
   "source": [
    "## 메서드 오버라이딩"
   ]
  },
  {
   "cell_type": "code",
   "execution_count": 24,
   "id": "db7fc5a6",
   "metadata": {},
   "outputs": [
    {
     "ename": "ZeroDivisionError",
     "evalue": "division by zero",
     "output_type": "error",
     "traceback": [
      "\u001b[0;31m---------------------------------------------------------------------------\u001b[0m",
      "\u001b[0;31mZeroDivisionError\u001b[0m                         Traceback (most recent call last)",
      "\u001b[0;32m/var/folders/wp/3yjtn2pj4_50t_f7jry9bhq00000gn/T/ipykernel_25285/452357127.py\u001b[0m in \u001b[0;36m<module>\u001b[0;34m\u001b[0m\n\u001b[1;32m      1\u001b[0m \u001b[0ma\u001b[0m \u001b[0;34m=\u001b[0m \u001b[0mFourCal\u001b[0m\u001b[0;34m(\u001b[0m\u001b[0;36m4\u001b[0m\u001b[0;34m,\u001b[0m \u001b[0;36m0\u001b[0m\u001b[0;34m)\u001b[0m\u001b[0;34m\u001b[0m\u001b[0;34m\u001b[0m\u001b[0m\n\u001b[1;32m      2\u001b[0m \u001b[0;34m\u001b[0m\u001b[0m\n\u001b[0;32m----> 3\u001b[0;31m \u001b[0ma\u001b[0m\u001b[0;34m.\u001b[0m\u001b[0mdiv\u001b[0m\u001b[0;34m(\u001b[0m\u001b[0;34m)\u001b[0m\u001b[0;34m\u001b[0m\u001b[0;34m\u001b[0m\u001b[0m\n\u001b[0m",
      "\u001b[0;32m/var/folders/wp/3yjtn2pj4_50t_f7jry9bhq00000gn/T/ipykernel_25285/647349182.py\u001b[0m in \u001b[0;36mdiv\u001b[0;34m(self)\u001b[0m\n\u001b[1;32m     17\u001b[0m \u001b[0;34m\u001b[0m\u001b[0m\n\u001b[1;32m     18\u001b[0m     \u001b[0;32mdef\u001b[0m \u001b[0mdiv\u001b[0m\u001b[0;34m(\u001b[0m\u001b[0mself\u001b[0m\u001b[0;34m)\u001b[0m\u001b[0;34m:\u001b[0m\u001b[0;34m\u001b[0m\u001b[0;34m\u001b[0m\u001b[0m\n\u001b[0;32m---> 19\u001b[0;31m         \u001b[0mresult\u001b[0m \u001b[0;34m=\u001b[0m \u001b[0mself\u001b[0m\u001b[0;34m.\u001b[0m\u001b[0mfirst\u001b[0m \u001b[0;34m/\u001b[0m \u001b[0mself\u001b[0m\u001b[0;34m.\u001b[0m\u001b[0msecond\u001b[0m\u001b[0;34m\u001b[0m\u001b[0;34m\u001b[0m\u001b[0m\n\u001b[0m\u001b[1;32m     20\u001b[0m         \u001b[0;32mreturn\u001b[0m \u001b[0mresult\u001b[0m\u001b[0;34m\u001b[0m\u001b[0;34m\u001b[0m\u001b[0m\n",
      "\u001b[0;31mZeroDivisionError\u001b[0m: division by zero"
     ]
    }
   ],
   "source": [
    "a = FourCal(4, 0)\n",
    "\n",
    "a.div()"
   ]
  },
  {
   "cell_type": "markdown",
   "id": "2d501066",
   "metadata": {},
   "source": [
    "FourCal 클래스의 객체 a에 4와 0 값을 설정하고 div 메서드를 호출하면, 4를 0으로 나누려고 하기 때문에 위와 같은 ZeroDivision Error가 발생한다.\n",
    "\n",
    "하지만 0으로 나눌 때 오류가 아닌 0을 돌려주도록 만들고 싶다면 어떻게 해야 할까?"
   ]
  },
  {
   "cell_type": "code",
   "execution_count": 25,
   "id": "862cd162",
   "metadata": {},
   "outputs": [],
   "source": [
    "class SafeFourCal(FourCal):\n",
    "    def div(self):\n",
    "        if self.second == 0:\n",
    "            return 0\n",
    "        else:\n",
    "            return self.first / self.second"
   ]
  },
  {
   "cell_type": "code",
   "execution_count": 26,
   "id": "dc99d70d",
   "metadata": {},
   "outputs": [
    {
     "data": {
      "text/plain": [
       "0"
      ]
     },
     "execution_count": 26,
     "metadata": {},
     "output_type": "execute_result"
    }
   ],
   "source": [
    "a = SafeFourCal(4, 0)\n",
    "\n",
    "a.div()"
   ]
  }
 ],
 "metadata": {
  "kernelspec": {
   "display_name": "Python 3 (ipykernel)",
   "language": "python",
   "name": "python3"
  },
  "language_info": {
   "codemirror_mode": {
    "name": "ipython",
    "version": 3
   },
   "file_extension": ".py",
   "mimetype": "text/x-python",
   "name": "python",
   "nbconvert_exporter": "python",
   "pygments_lexer": "ipython3",
   "version": "3.9.7"
  }
 },
 "nbformat": 4,
 "nbformat_minor": 5
}
