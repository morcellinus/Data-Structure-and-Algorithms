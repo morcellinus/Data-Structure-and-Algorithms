{
 "cells": [
  {
   "cell_type": "markdown",
   "id": "612fc907",
   "metadata": {},
   "source": [
    "# 1. 배열 개념 알아보기\n",
    "\n",
    "배열을 사용하면 따로 흩어진 변수를 하나로 묶어 사용할 수 있어 코드를 쉽고 효율적으로 작성할 수 있다.\n",
    "\n",
    "아래 예시를 살펴보자"
   ]
  },
  {
   "cell_type": "code",
   "execution_count": 1,
   "id": "21d7d5c1",
   "metadata": {},
   "outputs": [
    {
     "name": "stdout",
     "output_type": "stream",
     "text": [
      "학생 그룹 점수의 합계와 평균을 구합니다.\n",
      "학생1의 점수를 입력하세요.: 30\n",
      "학생2의 점수를 입력하세요.: 49\n",
      "학생3의 점수를 입력하세요.: 18\n",
      "학생4의 점수를 입력하세요.: 49\n",
      "학생5의 점수를 입력하세요.: 50\n",
      "합계는 196점입니다.\n",
      "평균은 39.2점입니다.\n"
     ]
    }
   ],
   "source": [
    "# 학생 5명의 시험 점수를 입력받아 합계와 평균을 출력하기\n",
    "\n",
    "print('학생 그룹 점수의 합계와 평균을 구합니다.')\n",
    "\n",
    "score1 = int(input('학생1의 점수를 입력하세요.: '))\n",
    "score2 = int(input('학생2의 점수를 입력하세요.: '))\n",
    "score3 = int(input('학생3의 점수를 입력하세요.: '))\n",
    "score4 = int(input('학생4의 점수를 입력하세요.: '))\n",
    "score5 = int(input('학생5의 점수를 입력하세요.: '))\n",
    "\n",
    "total = 0\n",
    "total += score1\n",
    "total += score2\n",
    "total += score3\n",
    "total += score4\n",
    "total += score5\n",
    "\n",
    "print(f'합계는 {total}점입니다.')\n",
    "print(f'평균은 {total/5}점입니다.')"
   ]
  },
  {
   "cell_type": "markdown",
   "id": "eb9ffee1",
   "metadata": {},
   "source": [
    "위처럼 비슷한 코드가 반복되는 경우, 즉 모든 값이 각각의 변수에 저장되는 경우에 아래와 같은 수정 사항을 반영하기 힘들다.\n",
    "\n",
    "요구사항1: 학생 수를 변경하는 경우\n",
    "요구사항2: 특정 학생의 시험 점수를 확인하거나 변경하는 경우\n",
    "요구사항3: 최저점과 최고점을 구하거나 정렬이 필요한 경우\n",
    "\n",
    "따라서 학생들의 점수를 하나의 값만 저장하는 변수가 아닌, 묶음 단위로 값을 저장하는 배열(array)이라는 자료구조로 다뤄야 한다.\n",
    "\n",
    "배열에는 객체가 저장되고, 저장된 객체 하나하나를 원소(element)라고 한다. 또한 각 원소는 0, 1, 2, ... 순서대로 인덱스를 부여받는다. \n",
    "\n",
    "*ex) 파이썬에서 배열 원소의 자료형은 어떤 것이라도 상관 없으며, 서로 다른 자료형을 같이 저장할 수 있고 배열 원소 자체를 배열에 저장할 수도 있다.*"
   ]
  },
  {
   "cell_type": "markdown",
   "id": "1780816a",
   "metadata": {},
   "source": [
    "# 2. 리스트와 튜플 알아보기\n",
    "\n",
    "## 2-1. 리스트의 기초\n",
    "\n",
    "리스트는 원소를 변경할 수 있는 mutable 객체이다.\n",
    "\n",
    "리스트는 연산자 [ ]안에 원소를 쉼표로 구분하여 표기함으로써 생성할 수 있다.\n",
    "\n",
    "원소 없이 [ ]만 선언하면 빈 리스트가 생성된다."
   ]
  },
  {
   "cell_type": "code",
   "execution_count": 4,
   "id": "684cb759",
   "metadata": {},
   "outputs": [],
   "source": [
    "list01 = []\n",
    "list02 = [1, 2, 3]\n",
    "list03 = ['A', 'B', 'C',] # 마지막 원소 뒤에 쉼표를 쓸 수 있다.\n",
    "\n",
    "list04 = list()\n",
    "list05 = list('ABC')\n",
    "list06 = list([1, 2, 3]) # [1, 2, 3] 리스트로부터 원소를 생성\n",
    "list07 = list((1, 2, 3)) # (1, 2, 3) 튜플로부터 원소를 생성\n",
    "list08 = list({1, 2, 3}) # {1, 2, 3} 집합으로부터 원소를 생성\n",
    "\n",
    "list09 = list(range(7)) # [0, 1, 2, 3, 4, 5, 6]\n",
    "list10 = list(range(3, 8)) # [3, 4, 5, 6, 7]\n",
    "list11 = list(range(3, 13, 2)) # [3, 5, 7, 9, 11]\n",
    "\n",
    "list12 = [None] * 5 # 원소가 5개이면서 원소값은 정해지지 않은 리스트 생성"
   ]
  },
  {
   "cell_type": "markdown",
   "id": "b92b27df",
   "metadata": {},
   "source": [
    "## 2-2. 튜플의 기초\n",
    "\n",
    "튜플은 원소에 순서를 매겨 결합한 것으로, 원소를 변경할 수 없는 immutable 자료형이다.\n",
    "\n",
    "튜플은 원소를 쉼표로 구분하여 나열하고, 결합 연산자 ( )로 둘러싸는 방식으로 생성한다.\n",
    "\n",
    "리스트와 마찬가지로 마지막 원소 뒤에 쉼표를 쓸 수 있으며, ( )만 사용하면 빈 튜플을 생성한다.\n",
    "\n",
    "이 때, 원소가 1개인 튜플의 경우 원소 뒤에 쉼표를 반드시 입력해야 튜플로 인식한다."
   ]
  },
  {
   "cell_type": "code",
   "execution_count": 5,
   "id": "05b41213",
   "metadata": {},
   "outputs": [],
   "source": [
    "tuple01 = () # 빈 튜플\n",
    "tuple02 = 1,\n",
    "tuple03 = (1,)\n",
    "\n",
    "tuple04 = 1, 2, 3\n",
    "tuple05 = 1, 2, 3,\n",
    "tuple06 = (1, 2, 3)\n",
    "tuple07 = (1, 2, 3,)\n",
    "tuple08 = 'A', 'B', 'C',\n",
    "\n",
    "tuple09 = tuple()\n",
    "tuple10 = tuple('ABC')\n",
    "tuple11 = tuple([1, 2, 3])\n",
    "tuple12 = tuple({1, 2, 3})\n",
    "\n",
    "tupel13 = tuple(range(7))\n",
    "tuple14 = tuple(range(3, 8))\n",
    "tuple15 = tuple(range(3, 13, 2))"
   ]
  },
  {
   "cell_type": "markdown",
   "id": "7a385a86",
   "metadata": {},
   "source": [
    "### cf ) 리스트와 튜플 풀어내기\n",
    "\n",
    "좌변에는 여러 개의 변수를 놓고 우변에는 리스트나 튜플을 놓으면, 우변의 원소를 좌변의 변수에 한번에 대입할 수 있다.\n",
    "\n",
    "이를 unpack이라고 한다. 아래 예시를 보자."
   ]
  },
  {
   "cell_type": "code",
   "execution_count": 8,
   "id": "d2b50aad",
   "metadata": {},
   "outputs": [
    {
     "data": {
      "text/plain": [
       "(1, 2, 3)"
      ]
     },
     "execution_count": 8,
     "metadata": {},
     "output_type": "execute_result"
    }
   ],
   "source": [
    "x = [1, 2, 3]\n",
    "a, b, c = x\n",
    "a, b, c"
   ]
  },
  {
   "cell_type": "markdown",
   "id": "fe8c9220",
   "metadata": {},
   "source": [
    "# 3. 인덱스로 원소에 접근하기\n",
    "\n",
    "인덱스 연산자 [ ] 안에 정숫값 인덱스를 지정하는 인덱스식은 리스트의 특정 원소를 정할 수 있다."
   ]
  },
  {
   "cell_type": "code",
   "execution_count": 11,
   "id": "3e0f290e",
   "metadata": {},
   "outputs": [
    {
     "name": "stdout",
     "output_type": "stream",
     "text": [
      "33\n",
      "55\n"
     ]
    },
    {
     "data": {
      "text/plain": [
       "[11, 22, 33, 3.14, 55, 66, 77]"
      ]
     },
     "execution_count": 11,
     "metadata": {},
     "output_type": "execute_result"
    }
   ],
   "source": [
    "x = [11, 22, 33, 44, 55, 66, 77]\n",
    "print(x[2])\n",
    "\n",
    "print(x[-3])\n",
    "\n",
    "x[-4] = 3.14\n",
    "\n",
    "x"
   ]
  },
  {
   "cell_type": "markdown",
   "id": "b17a9594",
   "metadata": {},
   "source": [
    "만약 x[7] = 3.14를 입력했다면, x[7]은 인덱스 범위를 벗어나기 때문에 오류가 발생한다.\n",
    "\n",
    "즉, 존재하지 않는 원소에 접근하거나 대입해도 원소가 새롭게 추가되지는 않는다."
   ]
  },
  {
   "cell_type": "markdown",
   "id": "d4d3412e",
   "metadata": {},
   "source": [
    "# 4. 슬라이스식으로 원소에 접근하기\n",
    "\n",
    "리스트 또는 튜플의 원소 일부를 연속해서 또는 일정한 간격으로 꺼내 새로운 리스트 또는 튜플을 만드는 것을 슬라이스라고 한다.\n",
    "\n",
    "슬라이스 식은 다음과 같이 나타낼 수 있다.\n",
    "\n",
    "* S[i:j] = S[i]부터 S[j-1]까지 나열\n",
    "* S[i:j:k] = S[i]부터 S[j-1]까지 k씩 건너뛰며 나열\n"
   ]
  },
  {
   "cell_type": "code",
   "execution_count": 12,
   "id": "2b2dfd5b",
   "metadata": {},
   "outputs": [
    {
     "data": {
      "text/plain": [
       "[11, 22, 33, 44, 55, 66]"
      ]
     },
     "execution_count": 12,
     "metadata": {},
     "output_type": "execute_result"
    }
   ],
   "source": [
    "s = [11, 22, 33, 44, 55, 66, 77]\n",
    "\n",
    "s[0:6]"
   ]
  },
  {
   "cell_type": "code",
   "execution_count": 13,
   "id": "1d572a33",
   "metadata": {},
   "outputs": [
    {
     "data": {
      "text/plain": [
       "[11, 22, 33, 44, 55, 66, 77]"
      ]
     },
     "execution_count": 13,
     "metadata": {},
     "output_type": "execute_result"
    }
   ],
   "source": [
    "s[0:7]"
   ]
  },
  {
   "cell_type": "code",
   "execution_count": 14,
   "id": "da761ce7",
   "metadata": {},
   "outputs": [
    {
     "data": {
      "text/plain": [
       "[11, 33, 55, 77]"
      ]
     },
     "execution_count": 14,
     "metadata": {},
     "output_type": "execute_result"
    }
   ],
   "source": [
    "s[0:7:2]"
   ]
  },
  {
   "cell_type": "code",
   "execution_count": 15,
   "id": "8fc5ecb1",
   "metadata": {},
   "outputs": [
    {
     "data": {
      "text/plain": [
       "[44, 55]"
      ]
     },
     "execution_count": 15,
     "metadata": {},
     "output_type": "execute_result"
    }
   ],
   "source": [
    "s[-4:-2]"
   ]
  },
  {
   "cell_type": "code",
   "execution_count": 16,
   "id": "c8fdd6fd",
   "metadata": {},
   "outputs": [
    {
     "data": {
      "text/plain": [
       "[]"
      ]
     },
     "execution_count": 16,
     "metadata": {},
     "output_type": "execute_result"
    }
   ],
   "source": [
    "s[3:1]"
   ]
  },
  {
   "cell_type": "markdown",
   "id": "d7f4e009",
   "metadata": {},
   "source": [
    "i,j,k 값 중 1개의 값 이상을 생략하는 패턴을 아래와 같이 정리할 수 잇다.\n",
    "\n",
    "S[ : ] = 리스트의 모든 원소를 출력\n",
    "\n",
    "S[ : n ] = 리스트의 원소 중 맨 앞부터 n개까지 출력\n",
    "\n",
    "S[ i : ] = 리스트의 원소 중 S[ i ]부터 맨 끝까지 출력\n",
    "\n",
    "S[ -n : ] = 리스트의 원소 중 -n부터 맨 끝까지 출력\n",
    "\n",
    "S[ : : k ] = 리스트의 원소 중 맨 앞부터 k개씩 건너뛰며 출력\n",
    "\n",
    "S[ : : -1 ] = 리스트의 원소 중 맨 끝부터 전부 출력"
   ]
  }
 ],
 "metadata": {
  "kernelspec": {
   "display_name": "Python 3 (ipykernel)",
   "language": "python",
   "name": "python3"
  },
  "language_info": {
   "codemirror_mode": {
    "name": "ipython",
    "version": 3
   },
   "file_extension": ".py",
   "mimetype": "text/x-python",
   "name": "python",
   "nbconvert_exporter": "python",
   "pygments_lexer": "ipython3",
   "version": "3.9.7"
  }
 },
 "nbformat": 4,
 "nbformat_minor": 5
}
