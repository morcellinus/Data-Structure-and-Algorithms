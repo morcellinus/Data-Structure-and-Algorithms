{
 "cells": [
  {
   "cell_type": "markdown",
   "id": "2091d440",
   "metadata": {},
   "source": [
    "# 실습 1-1: 세 정수의 최댓값 구하기"
   ]
  },
  {
   "cell_type": "code",
   "execution_count": 1,
   "id": "76d37fba",
   "metadata": {},
   "outputs": [
    {
     "name": "stdout",
     "output_type": "stream",
     "text": [
      "세 정수의 최댓값을 구합니다.\n",
      "정수 a의 값을 입력하세요.: 10\n",
      "정수 b의 값을 입력하세요.: 11\n",
      "정수 c의 값을 입력하세요.: 90\n",
      "최댓값은 90 입니다.\n"
     ]
    }
   ],
   "source": [
    "print('세 정수의 최댓값을 구합니다.')\n",
    "a = int(input('정수 a의 값을 입력하세요.: '))\n",
    "b = int(input('정수 b의 값을 입력하세요.: '))\n",
    "c = int(input('정수 c의 값을 입력하세요.: '))\n",
    "\n",
    "maximum = a\n",
    "if b > maximum: maximum = b\n",
    "if c > maximum: maximum = c\n",
    "\n",
    "print(f'최댓값은 {maximum} 입니다.')"
   ]
  },
  {
   "cell_type": "markdown",
   "id": "efd86c52",
   "metadata": {},
   "source": [
    "위 처럼 한 문장씩 순서대로 처리되는 구조를 순차구조라고 한다. \n",
    "\n",
    "if와 콜론 사이에 있는 식을 조건식이라 하고, 조건식으로 평가한 결과에 따라 프로그램의 실행 흐름이 달라지는 구조를 선택 구조라고 한다."
   ]
  },
  {
   "cell_type": "markdown",
   "id": "b78f1e90",
   "metadata": {},
   "source": [
    "# 실습 1-2: 세 정수의 최댓값 구하기_함수선언"
   ]
  },
  {
   "cell_type": "code",
   "execution_count": 2,
   "id": "dedb5360",
   "metadata": {},
   "outputs": [
    {
     "name": "stdout",
     "output_type": "stream",
     "text": [
      "max3(3, 2, 1) = 3\n"
     ]
    }
   ],
   "source": [
    "def max3(a,b,c):\n",
    "    \"\"\"a, b, c의 최댓값을 구하여 반환\"\"\"\n",
    "    maximum = a\n",
    "    if b > maximum: maximum = b\n",
    "    if c > maximum: maximum = c\n",
    "    return maximum # 최댓값 반환\n",
    "\n",
    "print(f'max3(3, 2, 1) = {max3(3, 2, 1)}')"
   ]
  },
  {
   "cell_type": "markdown",
   "id": "d952b76b",
   "metadata": {},
   "source": [
    "함수 내부에서 처리한 값을 반환할 때에는 return문을 사용해야 한다.\n",
    "\n",
    "**알고리즘이란 어떠한 문제를 해결하기 위해 정해놓은 일련의 절차이며, 어떠한 경우에도 실행 결과가 같아야 한다.**"
   ]
  },
  {
   "cell_type": "markdown",
   "id": "2d63484f",
   "metadata": {},
   "source": [
    "# 실습 1C-2: 세 정수의 중앙값 구하기"
   ]
  },
  {
   "cell_type": "code",
   "execution_count": 3,
   "id": "305b086c",
   "metadata": {},
   "outputs": [
    {
     "name": "stdout",
     "output_type": "stream",
     "text": [
      "세 정수의 중앙값을 구합니다.\n",
      "정수 a의 값을 입력하세요.: 10\n",
      "정수 b의 값을 입력하세요.: 55\n",
      "정수 c의 값을 입력하세요.: 39\n",
      "중앙값은 39 입니다\n"
     ]
    }
   ],
   "source": [
    "def med3(a, b, c):\n",
    "    \"\"\"a, b, c의 중앙값을 구하여 반환\"\"\"\n",
    "    if a >= b:\n",
    "        if b>=c:\n",
    "            return b\n",
    "        elif a <= c:\n",
    "            return a\n",
    "        else:\n",
    "            return c\n",
    "    elif a > c:\n",
    "        return a\n",
    "    elif b > c:\n",
    "        return c\n",
    "    else:\n",
    "        return b\n",
    "    \n",
    "print('세 정수의 중앙값을 구합니다.')\n",
    "a = int(input('정수 a의 값을 입력하세요.: '))\n",
    "b = int(input('정수 b의 값을 입력하세요.: '))\n",
    "c = int(input('정수 c의 값을 입력하세요.: '))\n",
    "\n",
    "print(f'중앙값은 {med3(a, b, c)} 입니다')"
   ]
  },
  {
   "cell_type": "markdown",
   "id": "4a68bef7",
   "metadata": {},
   "source": [
    "# 실습 1-4: 조건문과 분기"
   ]
  },
  {
   "cell_type": "code",
   "execution_count": 4,
   "id": "ef0b45c3",
   "metadata": {},
   "outputs": [
    {
     "name": "stdout",
     "output_type": "stream",
     "text": [
      "정수를 입력하세요.: 10\n",
      "C\n"
     ]
    },
    {
     "data": {
      "text/plain": [
       "'프로그램의 흐름이 3가지로 분기한다.'"
      ]
     },
     "execution_count": 4,
     "metadata": {},
     "output_type": "execute_result"
    }
   ],
   "source": [
    "# 3개로 분기하는 조건문\n",
    "\n",
    "n = int(input('정수를 입력하세요.: '))\n",
    "\n",
    "if n == 1:\n",
    "    print('A')\n",
    "elif n == 2:\n",
    "    print('B')\n",
    "else:\n",
    "    print('C')\n",
    "    \n",
    "\"\"\"프로그램의 흐름이 3가지로 분기한다.\"\"\""
   ]
  },
  {
   "cell_type": "code",
   "execution_count": 5,
   "id": "b878050a",
   "metadata": {},
   "outputs": [
    {
     "name": "stdout",
     "output_type": "stream",
     "text": [
      "정수를 입력하세요.: 300\n"
     ]
    },
    {
     "data": {
      "text/plain": [
       "'프로그램의 흐름이 4가지로 분기한다.'"
      ]
     },
     "execution_count": 5,
     "metadata": {},
     "output_type": "execute_result"
    }
   ],
   "source": [
    "# 4개로 분기하는 조건문\n",
    "\n",
    "n = int(input('정수를 입력하세요.: '))\n",
    "\n",
    "if n == 1:\n",
    "    print('A')\n",
    "elif n == 2:\n",
    "    print('B')\n",
    "elif n == 3:\n",
    "    print('C')\n",
    "else:\n",
    "    pass\n",
    "\n",
    "\"\"\"프로그램의 흐름이 4가지로 분기한다.\"\"\""
   ]
  }
 ],
 "metadata": {
  "kernelspec": {
   "display_name": "Python 3 (ipykernel)",
   "language": "python",
   "name": "python3"
  },
  "language_info": {
   "codemirror_mode": {
    "name": "ipython",
    "version": 3
   },
   "file_extension": ".py",
   "mimetype": "text/x-python",
   "name": "python",
   "nbconvert_exporter": "python",
   "pygments_lexer": "ipython3",
   "version": "3.9.7"
  }
 },
 "nbformat": 4,
 "nbformat_minor": 5
}
