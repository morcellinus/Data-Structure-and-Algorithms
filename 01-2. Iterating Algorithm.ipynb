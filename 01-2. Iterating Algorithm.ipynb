{
 "cells": [
  {
   "cell_type": "markdown",
   "id": "af640b05",
   "metadata": {},
   "source": [
    "# 실습 1-7: 1부터 n까지 정수의 합 구하기"
   ]
  },
  {
   "cell_type": "code",
   "execution_count": 1,
   "id": "fc1d092b",
   "metadata": {},
   "outputs": [
    {
     "name": "stdout",
     "output_type": "stream",
     "text": [
      "1부터 n까지 정수의 합을 구합니다.\n",
      "n값을 입력하세요.: 10\n",
      "1부터 10까지 정수의 합은 55입니다.\n"
     ]
    }
   ],
   "source": [
    "print('1부터 n까지 정수의 합을 구합니다.')\n",
    "n = int(input('n값을 입력하세요.: '))\n",
    "\n",
    "sum = 0\n",
    "i = 1\n",
    "\n",
    "while i <= n: # i가 n보다 작거나 같은 동안 반복\n",
    "    sum += i # sum에 i를 더함\n",
    "    i += 1 # i에 1을 더함\n",
    "    \n",
    "print(f'1부터 {n}까지 정수의 합은 {sum}입니다.')"
   ]
  },
  {
   "cell_type": "markdown",
   "id": "b755c691",
   "metadata": {},
   "source": [
    "어떤 조건이 성립하는 동안 반복해서 처리하는 것을 반복구조라고 한다.\n",
    "\n",
    "이때 while문은 실행하기 전 반복을 계속할 것인지 판단하는데, 이런 구조를 **사전 판단 반복 구조**라고 한다. \n",
    "\n",
    "따라서 조건식의 평가 결과가 참인 동안 계속 명령문이 반복된다. "
   ]
  },
  {
   "cell_type": "markdown",
   "id": "f9559308",
   "metadata": {},
   "source": [
    "# 실습 1-8: 1부터 n까지 정수의 합 구하기 _ for문"
   ]
  },
  {
   "cell_type": "code",
   "execution_count": 3,
   "id": "87b7cb8a",
   "metadata": {},
   "outputs": [
    {
     "name": "stdout",
     "output_type": "stream",
     "text": [
      "1부터 n까지 정수의 합을 구합니다.\n",
      "n값을 입력하세요.: 10\n",
      "1부터 10까지 정수의 합은 55입니다.\n"
     ]
    }
   ],
   "source": [
    "print('1부터 n까지 정수의 합을 구합니다.')\n",
    "n = int(input('n값을 입력하세요.: '))\n",
    "        \n",
    "sum = 0\n",
    "for i in range(1, n+1):\n",
    "        sum += i # sum에 i를 더함\n",
    "        \n",
    "print(f'1부터 {n}까지 정수의 합은 {sum}입니다.')"
   ]
  },
  {
   "cell_type": "markdown",
   "id": "48a1b821",
   "metadata": {},
   "source": [
    "- range(n): 0 이상 n 미만인 수를 차례로 나열하는 수열\n",
    "\n",
    "- range(a, b): a 이상 b 미만인 수를 차례로 나열하는 수열\n",
    "\n",
    "- range(a, b, step): a 이상 b 미만인 수를 step 간격으로 나열하는 수열\n"
   ]
  },
  {
   "cell_type": "markdown",
   "id": "7806f3cf",
   "metadata": {},
   "source": [
    "# 실습 1-9: 연속하는 정수의 합을 구하기 위한 값 정렬"
   ]
  },
  {
   "cell_type": "code",
   "execution_count": 4,
   "id": "be20fa01",
   "metadata": {},
   "outputs": [
    {
     "name": "stdout",
     "output_type": "stream",
     "text": [
      "a부터 b까지 정수의 합을 구합니다.\n",
      "정수 a의 값을 입력하세요.: 90\n",
      "정수 b의 값을 입력하세요.: 3\n",
      "3부터 90까지 정수의 합은 4092입니다.\n"
     ]
    }
   ],
   "source": [
    "print('a부터 b까지 정수의 합을 구합니다.')\n",
    "\n",
    "a = int(input('정수 a의 값을 입력하세요.: '))\n",
    "b = int(input('정수 b의 값을 입력하세요.: '))\n",
    "\n",
    "if a > b:\n",
    "    a,b = b,a # a가 b보다 클 경우 a와 b를 오름차순으로 정렬\n",
    "\n",
    "sum = 0\n",
    "\n",
    "for i in range(a, b+1):\n",
    "    sum += i\n",
    "    \n",
    "print(f'{a}부터 {b}까지 정수의 합은 {sum}입니다.')"
   ]
  },
  {
   "cell_type": "markdown",
   "id": "25b25763",
   "metadata": {},
   "source": [
    "# 실습 1-10: 반복 과정에서 조건 판단하기 1"
   ]
  },
  {
   "cell_type": "code",
   "execution_count": 7,
   "id": "95d036b3",
   "metadata": {},
   "outputs": [
    {
     "name": "stdout",
     "output_type": "stream",
     "text": [
      "a부터 b까지 정수의 합을 구합니다.\n",
      "정수 a의 값을 입력하세요.: 30\n",
      "정수 b의 값을 입력하세요.: 1\n",
      "1 + 2 + 3 + 4 + 5 + 6 + 7 + 8 + 9 + 10 + 11 + 12 + 13 + 14 + 15 + 16 + 17 + 18 + 19 + 20 + 21 + 22 + 23 + 24 + 25 + 26 + 27 + 28 + 29 + 30 = 465\n"
     ]
    }
   ],
   "source": [
    "print('a부터 b까지 정수의 합을 구합니다.')\n",
    "\n",
    "a = int(input('정수 a의 값을 입력하세요.: '))\n",
    "b = int(input('정수 b의 값을 입력하세요.: '))\n",
    "\n",
    "if a > b:\n",
    "    a, b = b, a\n",
    "\n",
    "sum = 0\n",
    "\n",
    "for i in range(a, b+1):\n",
    "    if i < b: # i가 b보다 작으면 합을 구하는 과정을 출력\n",
    "        print(f'{i} + ', end = '')\n",
    "    else: # i가 b보다 크거나 같으면 최종값 출력을 위해 i = 를 출력\n",
    "        print(f'{i} = ', end = '')\n",
    "    sum += i\n",
    "\n",
    "print(sum)"
   ]
  },
  {
   "cell_type": "markdown",
   "id": "e39b9a34",
   "metadata": {},
   "source": [
    "그러나 위 if문은 효율이 좋지 않다.\n",
    "\n",
    "그 이유는 만약 a가 1이고 b가 10000일 경우, if문이 마지막 단 1번의 실행을 위해 9999번 실행되어야 하기 때문이다.\n",
    "\n",
    "따라서 이러한 경우는 for문 안에 있는 if문을 제외해 별도로 두는 것이 더 좋다.\n",
    "\n",
    "이를 반영한 것이 아래 1-11이다."
   ]
  },
  {
   "cell_type": "markdown",
   "id": "3ee72b83",
   "metadata": {},
   "source": [
    "# 실습 1-11"
   ]
  },
  {
   "cell_type": "code",
   "execution_count": 9,
   "id": "fa56ed6e",
   "metadata": {},
   "outputs": [
    {
     "name": "stdout",
     "output_type": "stream",
     "text": [
      "a부터 b까지 정수의 합을 구합니다.\n",
      "정수 a의 값을 입력하세요.: 1\n",
      "정수 b의 값을 입력하세요.: 10\n",
      "1 + 2 + 3 + 4 + 5 + 6 + 7 + 8 + 9 + 10 = 55\n"
     ]
    }
   ],
   "source": [
    "print('a부터 b까지 정수의 합을 구합니다.')\n",
    "a = int(input('정수 a의 값을 입력하세요.: '))\n",
    "b = int(input('정수 b의 값을 입력하세요.: '))\n",
    "\n",
    "if a > b:\n",
    "    a, b = b, a\n",
    "\n",
    "sum = 0\n",
    "\n",
    "for i in range(a, b):\n",
    "    print(f'{i} + ', end = '')\n",
    "    sum += i\n",
    "\n",
    "print(f'{b} = ', end = '')\n",
    "sum += b\n",
    "\n",
    "print(sum)"
   ]
  },
  {
   "cell_type": "markdown",
   "id": "97893147",
   "metadata": {},
   "source": [
    "판단 횟수가 n번에서 0번으로 바뀌었다.\n",
    "\n",
    "반복 횟수가 1회 감소했다. "
   ]
  },
  {
   "cell_type": "markdown",
   "id": "83bdf0c1",
   "metadata": {},
   "source": [
    "# 실습 1-12: 반복 과정에서 조건 판단하기 2"
   ]
  },
  {
   "cell_type": "code",
   "execution_count": 10,
   "id": "7895e03a",
   "metadata": {},
   "outputs": [
    {
     "name": "stdout",
     "output_type": "stream",
     "text": [
      "+와 -를 번갈아 출력합니다.\n",
      "몇 개를 출력할까요?10\n",
      "+-+-+-+-+-\n"
     ]
    }
   ],
   "source": [
    "print('+와 -를 번갈아 출력합니다.')\n",
    "\n",
    "n = int(input('몇 개를 출력할까요?'))\n",
    "\n",
    "for i in range(n):\n",
    "    if i%2:\n",
    "        print('-', end = '')\n",
    "    else:\n",
    "        print('+', end = '')\n",
    "\n",
    "print()"
   ]
  },
  {
   "cell_type": "markdown",
   "id": "aee96858",
   "metadata": {},
   "source": [
    "위 반복문에서 for문은 n번, 나눗셈은 n번, if문 판단도 n번 수행합니다. \n",
    "\n",
    "즉, for문을 반복할 때마다 if문이 수행됩니다. \n",
    "\n",
    "이를 개선한 것이 아래 실습 1-13입니다."
   ]
  },
  {
   "cell_type": "markdown",
   "id": "32984031",
   "metadata": {},
   "source": [
    "# 실습 1-13"
   ]
  },
  {
   "cell_type": "code",
   "execution_count": 11,
   "id": "4e7dc3ad",
   "metadata": {},
   "outputs": [
    {
     "name": "stdout",
     "output_type": "stream",
     "text": [
      "+와 -를 번갈아 출력합니다.\n",
      "몇 개를 출력할까요?: 35\n",
      "+-+-+-+-+-+-+-+-+-+-+-+-+-+-+-+-+-+\n"
     ]
    }
   ],
   "source": [
    "print('+와 -를 번갈아 출력합니다.')\n",
    "\n",
    "n = int(input('몇 개를 출력할까요?: '))\n",
    "\n",
    "for _ in range(n//2): # for 반복문에서 range 함수가 반환하는 값을 사용할 필요가 없기 때문에 _를 사용\n",
    "    print('+-', end = '') # n 나누기 2의 몫만큼 +-를 출력\n",
    "\n",
    "if n%2:\n",
    "    print('+', end = '') # 주어진 값이 홀수일 경우 가장 마지막에 출력되는 값이 +이기 위한 행\n",
    "    \n",
    "print()"
   ]
  },
  {
   "cell_type": "markdown",
   "id": "0f310fb6",
   "metadata": {},
   "source": [
    "# 실습 1-14: 반복 과정에서 조건 판단하기 3"
   ]
  },
  {
   "cell_type": "code",
   "execution_count": 16,
   "id": "7a20eaa6",
   "metadata": {},
   "outputs": [
    {
     "name": "stdout",
     "output_type": "stream",
     "text": [
      "*를 출력합니다.\n",
      "몇 개를 출력할까요?: 99\n",
      "몇 개마다 줄바꿈할까요?: 6\n",
      "******\n",
      "******\n",
      "******\n",
      "******\n",
      "******\n",
      "******\n",
      "******\n",
      "******\n",
      "******\n",
      "******\n",
      "******\n",
      "******\n",
      "******\n",
      "******\n",
      "******\n",
      "******\n",
      "***\n"
     ]
    }
   ],
   "source": [
    "# *를 n개 출력하되 w개마다 줄바꿈하기 1\n",
    "\n",
    "print('*를 출력합니다.')\n",
    "n = int(input('몇 개를 출력할까요?: '))\n",
    "w = int(input('몇 개마다 줄바꿈할까요?: '))\n",
    "\n",
    "for i in range(n):\n",
    "    print('*', end = '')\n",
    "    if i % w == w - 1: # i를 w로 나눈 나머지가 w-1일 때 줄바꿈을 수행한다. (Ex) w = 5일 경우 i가 4, 9, 14일 때 줄바꿈한다.\n",
    "        print()\n",
    "\n",
    "if n % w:\n",
    "    print() # n이 w의 배수가 아닌 경우 for문 밖에서 따로 마지막 결과물의 줄바꿈을 수행해야 한다."
   ]
  },
  {
   "cell_type": "markdown",
   "id": "533c1859",
   "metadata": {},
   "source": [
    "그러나 위 알고리즘은 for문이 반복될 때마다 if문의 판단이 수행되기 때문에 비효율적이다.\n",
    "\n",
    "따라서 이를 개선한 것이 아래 실습 1-15이다."
   ]
  },
  {
   "cell_type": "markdown",
   "id": "4fa05f65",
   "metadata": {},
   "source": [
    "# 실습 1-15"
   ]
  },
  {
   "cell_type": "code",
   "execution_count": 18,
   "id": "9ad34dfd",
   "metadata": {},
   "outputs": [
    {
     "name": "stdout",
     "output_type": "stream",
     "text": [
      "*를 출력합니다.\n",
      "몇 개를 출력할까요?: 99\n",
      "몇 개마다 줄바꿈할까요?: 6\n",
      "******\n",
      "******\n",
      "******\n",
      "******\n",
      "******\n",
      "******\n",
      "******\n",
      "******\n",
      "******\n",
      "******\n",
      "******\n",
      "******\n",
      "******\n",
      "******\n",
      "******\n",
      "******\n",
      "***\n"
     ]
    }
   ],
   "source": [
    "print('*를 출력합니다.')\n",
    "n = int(input('몇 개를 출력할까요?: '))\n",
    "w = int(input('몇 개마다 줄바꿈할까요?: '))\n",
    "\n",
    "for _ in range(n//w): # n을 w로 나눈 몫만큼 반복 (ex) n = 16, w = 5라면 아래 print문을 3번 반복\n",
    "    print('*' *w)\n",
    "\n",
    "rest = n % w\n",
    "\n",
    "if rest: # n이 w로 나누어 떨어지지 않아 나머지가 존재한다면,\n",
    "    print('*'*rest) # 나머지만큼 마지막 줄에 추가"
   ]
  },
  {
   "cell_type": "markdown",
   "id": "ae30819a",
   "metadata": {},
   "source": [
    "# 실습 1-16: 무한루프와 break문 알아보기"
   ]
  },
  {
   "cell_type": "code",
   "execution_count": 19,
   "id": "4184d0bc",
   "metadata": {},
   "outputs": [
    {
     "name": "stdout",
     "output_type": "stream",
     "text": [
      "1부터 n까지 정수의 합을 구합니다.\n",
      "n값을 입력하세요.: -4\n",
      "n값을 입력하세요.: -3\n",
      "n값을 입력하세요.: 0\n",
      "n값을 입력하세요.: 1003\n",
      "1부터 1003까지 정수의 합은 503506 입니다.\n"
     ]
    }
   ],
   "source": [
    "print('1부터 n까지 정수의 합을 구합니다.')\n",
    "\n",
    "while True:\n",
    "    n = int(input('n값을 입력하세요.: '))\n",
    "    if n > 0:\n",
    "        break # n값으로 양수를 입력할 때까지 계속 입력을 받음\n",
    "        \n",
    "sum = 0\n",
    "i = 1\n",
    "\n",
    "for i in range(i, n+1):\n",
    "    sum += i\n",
    "    i += 1\n",
    "\n",
    "print(f'1부터 {n}까지 정수의 합은 {sum} 입니다.')"
   ]
  },
  {
   "cell_type": "markdown",
   "id": "ca5f1b86",
   "metadata": {},
   "source": [
    "while문의 조건식에 True가 사용된 것은 while문이 무한 반복되도록 만든 무한루프이다.\n",
    "\n",
    "이 때 n이 0보다 커지면, 즉 양수를 입력받으면 break를 통해 무한 루프가 종료된다. "
   ]
  },
  {
   "cell_type": "markdown",
   "id": "1667b783",
   "metadata": {},
   "source": [
    "# 실습 1-17: 직사각형의 넓이가 주어졌을 때 정수인 변의 길이 구하기"
   ]
  },
  {
   "cell_type": "code",
   "execution_count": 20,
   "id": "a6cc9ac3",
   "metadata": {},
   "outputs": [
    {
     "name": "stdout",
     "output_type": "stream",
     "text": [
      "직사각형의 넓이를 입력하세요.: 96\n",
      "1 x 96\n",
      "2 x 48\n",
      "3 x 32\n",
      "4 x 24\n",
      "6 x 16\n",
      "8 x 12\n"
     ]
    }
   ],
   "source": [
    "area = int(input('직사각형의 넓이를 입력하세요.: '))\n",
    "\n",
    "for i in range(1, area + 1):\n",
    "    if i * i > area : break # 길이가 같은 두 변의 곱이 넓이보다 큰 경우 for문에서 탈출\n",
    "    if area % i : continue # 변의 길이가 넓이에 나누어 떨어지지 않는 경우 무시\n",
    "    print(f'{i} x {area // i}')"
   ]
  },
  {
   "cell_type": "markdown",
   "id": "6f22c4c7",
   "metadata": {},
   "source": [
    "# 실습 1-21: 다중루프"
   ]
  },
  {
   "cell_type": "code",
   "execution_count": 21,
   "id": "5e9a5a51",
   "metadata": {},
   "outputs": [
    {
     "name": "stdout",
     "output_type": "stream",
     "text": [
      "---------------------------\n",
      "  1  2  3  4  5  6  7  8  9\n",
      "  2  4  6  8 10 12 14 16 18\n",
      "  3  6  9 12 15 18 21 24 27\n",
      "  4  8 12 16 20 24 28 32 36\n",
      "  5 10 15 20 25 30 35 40 45\n",
      "  6 12 18 24 30 36 42 48 54\n",
      "  7 14 21 28 35 42 49 56 63\n",
      "  8 16 24 32 40 48 56 64 72\n",
      "  9 18 27 36 45 54 63 72 81\n",
      "---------------------------\n"
     ]
    }
   ],
   "source": [
    "print('-'*27)\n",
    "\n",
    "for i in range(1, 10):\n",
    "    for j in range(1, 10):\n",
    "        print(f'{i * j:3}', end = '') # i*j를 3자리까지 출력\n",
    "    print() # i가 변할 때마다 줄바꿈\n",
    "print('-'*27)"
   ]
  }
 ],
 "metadata": {
  "kernelspec": {
   "display_name": "Python 3 (ipykernel)",
   "language": "python",
   "name": "python3"
  },
  "language_info": {
   "codemirror_mode": {
    "name": "ipython",
    "version": 3
   },
   "file_extension": ".py",
   "mimetype": "text/x-python",
   "name": "python",
   "nbconvert_exporter": "python",
   "pygments_lexer": "ipython3",
   "version": "3.9.7"
  }
 },
 "nbformat": 4,
 "nbformat_minor": 5
}
